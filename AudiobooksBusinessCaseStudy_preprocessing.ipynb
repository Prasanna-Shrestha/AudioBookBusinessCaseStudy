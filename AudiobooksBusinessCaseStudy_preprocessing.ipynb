{
 "cells": [
  {
   "cell_type": "markdown",
   "id": "ea2f027b-92f3-4bd7-b133-9ce89f622476",
   "metadata": {},
   "source": [
    "### Importing relevant libraries"
   ]
  },
  {
   "cell_type": "code",
   "execution_count": 10,
   "id": "0fd75660-21d4-4be0-b3b3-707999c6103a",
   "metadata": {},
   "outputs": [],
   "source": [
    "import numpy as np\n",
    "import tensorflow as tf\n",
    "from sklearn import preprocessing"
   ]
  },
  {
   "cell_type": "markdown",
   "id": "dd44da0e-31f7-4903-8c41-f5c6fa477fd2",
   "metadata": {},
   "source": [
    "### Loading data"
   ]
  },
  {
   "cell_type": "code",
   "execution_count": 11,
   "id": "bf4710ee-0768-42ce-b849-3d8a90a2a845",
   "metadata": {},
   "outputs": [
    {
     "data": {
      "text/plain": [
       "array([[8.7300e+02, 2.1600e+03, 2.1600e+03, ..., 0.0000e+00, 0.0000e+00,\n",
       "        1.0000e+00],\n",
       "       [6.1100e+02, 1.4040e+03, 2.8080e+03, ..., 0.0000e+00, 1.8200e+02,\n",
       "        1.0000e+00],\n",
       "       [7.0500e+02, 3.2400e+02, 3.2400e+02, ..., 1.0000e+00, 3.3400e+02,\n",
       "        1.0000e+00],\n",
       "       ...,\n",
       "       [2.8671e+04, 1.0800e+03, 1.0800e+03, ..., 0.0000e+00, 2.9000e+01,\n",
       "        0.0000e+00],\n",
       "       [3.1134e+04, 2.1600e+03, 2.1600e+03, ..., 0.0000e+00, 0.0000e+00,\n",
       "        0.0000e+00],\n",
       "       [3.2832e+04, 1.6200e+03, 1.6200e+03, ..., 0.0000e+00, 9.0000e+01,\n",
       "        0.0000e+00]])"
      ]
     },
     "execution_count": 11,
     "metadata": {},
     "output_type": "execute_result"
    }
   ],
   "source": [
    "raw_data = np.loadtxt('Audiobooks_data.csv',delimiter=',')\n",
    "raw_data"
   ]
  },
  {
   "cell_type": "markdown",
   "id": "33e9e9ec-eb5c-46b3-b7f1-90ba8c3cf041",
   "metadata": {},
   "source": [
    "### Separating inputs and targets"
   ]
  },
  {
   "cell_type": "code",
   "execution_count": 3,
   "id": "c1a9a439-bc3a-4e4a-b2ed-f0bea1ba5ce0",
   "metadata": {},
   "outputs": [],
   "source": [
    "inputs_raw_data = raw_data[:,1:-1]\n",
    "targets_raw_data = raw_data[:,-1]"
   ]
  },
  {
   "cell_type": "markdown",
   "id": "ab65b6de-609e-4425-b219-9af774a4a240",
   "metadata": {},
   "source": [
    "### Balancing the dataset"
   ]
  },
  {
   "cell_type": "code",
   "execution_count": 4,
   "id": "280f964e-c157-4aad-8bd9-93be016d2edd",
   "metadata": {},
   "outputs": [],
   "source": [
    "num_one_targets = int(np.sum(targets_raw_data))\n",
    "zero_targets_counter = 0\n",
    "indices_to_remove = []\n",
    "for i in range (targets_raw_data.shape[0]):\n",
    "    if targets_raw_data[i] == 0:\n",
    "        zero_targets_counter += 1\n",
    "        if zero_targets_counter > num_one_targets:\n",
    "            indices_to_remove.append(i)\n",
    "\n",
    "balanced_inputs = np.delete(inputs_raw_data, indices_to_remove, axis = 0)\n",
    "balanced_targets = np.delete(targets_raw_data, indices_to_remove, axis = 0)"
   ]
  },
  {
   "cell_type": "markdown",
   "id": "5a489e9c-6b50-4583-9f9b-dfdd76d16738",
   "metadata": {},
   "source": [
    "### Standardizing the dataset"
   ]
  },
  {
   "cell_type": "code",
   "execution_count": 5,
   "id": "afe7c659-25c1-4858-a45a-f7d1e9c69106",
   "metadata": {},
   "outputs": [],
   "source": [
    "standardized_inputs = preprocessing.scale(balanced_inputs)"
   ]
  },
  {
   "cell_type": "markdown",
   "id": "b4a9bea9-7546-4748-b8d0-9ef9e12e6844",
   "metadata": {},
   "source": [
    "### Shuffling the dataset"
   ]
  },
  {
   "cell_type": "code",
   "execution_count": 6,
   "id": "c11c4ec7-4798-46c9-8255-a4a4fb76b855",
   "metadata": {},
   "outputs": [],
   "source": [
    "shuffled_indices = np.arange(standardized_inputs.shape[0])\n",
    "np.random.shuffle(shuffled_indices)\n",
    "\n",
    "shuffled_inputs = standardized_inputs[shuffled_indices]\n",
    "shuffled_targets = balanced_targets[shuffled_indices]"
   ]
  },
  {
   "cell_type": "markdown",
   "id": "8043d682-9e34-457b-8874-763458a0e3c6",
   "metadata": {},
   "source": [
    "### Splitting the dataset"
   ]
  },
  {
   "cell_type": "code",
   "execution_count": 8,
   "id": "ef24048d-a5d6-473a-ba44-1d21342dd2b9",
   "metadata": {},
   "outputs": [
    {
     "name": "stdout",
     "output_type": "stream",
     "text": [
      "1789.0 3579 0.49986029617211514\n",
      "227.0 447 0.5078299776286354\n",
      "221.0 448 0.49330357142857145\n"
     ]
    }
   ],
   "source": [
    "num_samples = shuffled_inputs.shape[0]\n",
    "\n",
    "train_data_num_samples = int(0.8 * num_samples)\n",
    "validation_data_num_samples = int(0.1 * num_samples)\n",
    "test_data_num_samples = num_samples - (train_data_num_samples + validation_data_num_samples)\n",
    "\n",
    "train_input_data = shuffled_inputs[ : train_data_num_samples]\n",
    "train_target_data = shuffled_targets[ : train_data_num_samples]\n",
    "\n",
    "validation_input_data = shuffled_inputs[train_data_num_samples : train_data_num_samples+validation_data_num_samples]\n",
    "validation_target_data = shuffled_targets[train_data_num_samples : train_data_num_samples+validation_data_num_samples]\n",
    "\n",
    "test_input_data = shuffled_inputs[train_data_num_samples+validation_data_num_samples : ]\n",
    "test_target_data = shuffled_targets[train_data_num_samples+validation_data_num_samples : ]\n",
    "\n",
    "# Checking whether the dataset is balanced or not; dataset with 50% of the target as 1 and 50% of the target as 0 indicates the dataset is balanced\n",
    "print(np.sum(train_target_data), train_data_num_samples, np.sum(train_target_data)/train_data_num_samples)\n",
    "print(np.sum(validation_target_data), validation_data_num_samples, np.sum(validation_target_data)/validation_data_num_samples)\n",
    "print(np.sum(test_target_data), test_data_num_samples, np.sum(test_target_data)/test_data_num_samples)"
   ]
  },
  {
   "cell_type": "markdown",
   "id": "d98f7254-01e6-4a07-b24a-cecca5ca1a22",
   "metadata": {},
   "source": [
    "### Saving the dataset in npz format"
   ]
  },
  {
   "cell_type": "code",
   "execution_count": 12,
   "id": "39f7c5f3-ab3d-4b37-8b37-132b7ca93d15",
   "metadata": {},
   "outputs": [],
   "source": [
    "# To load the data in Tensorflow we need to save it in npz file\n",
    "np.savez('Audiobooks_train_data_npz', inputs = train_input_data, targets = train_target_data)\n",
    "np.savez('Audiobooks_validation_data_npz', inputs = validation_input_data, targets = validation_target_data)\n",
    "np.savez('Audiobooks_test_data_npz', inputs = test_input_data, targets = test_target_data)\n",
    "\n",
    "# The model has been built in another file: AudiobooksBusinessCaseStudy_TF_model.ipynb"
   ]
  }
 ],
 "metadata": {
  "kernelspec": {
   "display_name": "py3_TF2.0",
   "language": "python",
   "name": "py3_tf2.0"
  },
  "language_info": {
   "codemirror_mode": {
    "name": "ipython",
    "version": 3
   },
   "file_extension": ".py",
   "mimetype": "text/x-python",
   "name": "python",
   "nbconvert_exporter": "python",
   "pygments_lexer": "ipython3",
   "version": "3.10.13"
  }
 },
 "nbformat": 4,
 "nbformat_minor": 5
}
