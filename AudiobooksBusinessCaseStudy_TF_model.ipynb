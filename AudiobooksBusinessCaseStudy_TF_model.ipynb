{
 "cells": [
  {
   "cell_type": "markdown",
   "id": "1284bd01-3ad7-4eb6-9d5d-41f5826874d7",
   "metadata": {},
   "source": [
    "### Importing the relevant libraries"
   ]
  },
  {
   "cell_type": "code",
   "execution_count": 1,
   "id": "b8b4222b-cfc6-490e-b3ec-775affd4b1d8",
   "metadata": {},
   "outputs": [],
   "source": [
    "import numpy as np\n",
    "import tensorflow as tf"
   ]
  },
  {
   "cell_type": "markdown",
   "id": "0e6d28e8-aaf1-4f19-8c93-d175d7d1b95c",
   "metadata": {},
   "source": [
    "### Loading the data for algorithm"
   ]
  },
  {
   "cell_type": "code",
   "execution_count": 2,
   "id": "99647ed0-6674-47bb-a027-216b470eb7ee",
   "metadata": {},
   "outputs": [],
   "source": [
    "npz = np.load('Audiobooks_train_data_npz.npz')\n",
    "train_input, train_target = npz['inputs'].astype(np.float32), npz['targets'].astype(np.int32)\n",
    "\n",
    "npz = np.load('Audiobooks_validation_data_npz.npz')\n",
    "validation_input, validation_target = npz['inputs'].astype(np.float32), npz['targets'].astype(np.int32)\n",
    "\n",
    "npz = np.load('Audiobooks_test_data_npz.npz')\n",
    "test_input, test_target = npz['inputs'].astype(np.float32), npz['targets'].astype(np.int32)"
   ]
  },
  {
   "cell_type": "markdown",
   "id": "2fd57ec0-9971-447f-8f2a-0c660f365db9",
   "metadata": {},
   "source": [
    "### Creating ML model"
   ]
  },
  {
   "cell_type": "code",
   "execution_count": 3,
   "id": "d5da4699-22a9-40fe-85d1-71ba3cb63f84",
   "metadata": {},
   "outputs": [],
   "source": [
    "input_size = 10\n",
    "output_size = 2\n",
    "hidden_layer_size = 500\n",
    "\n",
    "model = tf.keras.Sequential([\n",
    "    tf.keras.layers.Dense(hidden_layer_size, activation='relu'),\n",
    "    tf.keras.layers.Dense(hidden_layer_size, activation='relu'),\n",
    "    tf.keras.layers.Dense(output_size, activation='softmax'),\n",
    "])\n",
    "# Building model with 2 hidden layers with 500 hidden units in each hidden layer, the activation function are chosen arbitrarily in the hidden layers.\n",
    "# In the last layer, output layer, the activation function is chosen to be softmax as we need to calculate the probabilty distribution of each output\n",
    "model.compile(optimizer='adam', loss='sparse_categorical_crossentropy', metrics=['accuracy'])"
   ]
  },
  {
   "cell_type": "code",
   "execution_count": 4,
   "id": "4c203955-8660-4a7f-9fa7-8ae95fe33ad2",
   "metadata": {},
   "outputs": [
    {
     "name": "stdout",
     "output_type": "stream",
     "text": [
      "Epoch 1/100\n",
      "36/36 - 1s - loss: 0.3561 - accuracy: 0.8656 - val_loss: 0.2827 - val_accuracy: 0.9016 - 1s/epoch - 29ms/step\n",
      "Epoch 2/100\n",
      "36/36 - 0s - loss: 0.2777 - accuracy: 0.8963 - val_loss: 0.2703 - val_accuracy: 0.9016 - 122ms/epoch - 3ms/step\n",
      "Epoch 3/100\n",
      "36/36 - 0s - loss: 0.2623 - accuracy: 0.9000 - val_loss: 0.2642 - val_accuracy: 0.8926 - 118ms/epoch - 3ms/step\n",
      "Epoch 4/100\n",
      "36/36 - 0s - loss: 0.2593 - accuracy: 0.9022 - val_loss: 0.2580 - val_accuracy: 0.9083 - 115ms/epoch - 3ms/step\n",
      "Epoch 5/100\n",
      "36/36 - 0s - loss: 0.2544 - accuracy: 0.9047 - val_loss: 0.2548 - val_accuracy: 0.9038 - 119ms/epoch - 3ms/step\n",
      "Epoch 6/100\n",
      "36/36 - 0s - loss: 0.2465 - accuracy: 0.9081 - val_loss: 0.2448 - val_accuracy: 0.9060 - 121ms/epoch - 3ms/step\n",
      "Epoch 7/100\n",
      "36/36 - 0s - loss: 0.2455 - accuracy: 0.9089 - val_loss: 0.2443 - val_accuracy: 0.9060 - 116ms/epoch - 3ms/step\n",
      "Epoch 8/100\n",
      "36/36 - 0s - loss: 0.2367 - accuracy: 0.9106 - val_loss: 0.2494 - val_accuracy: 0.8993 - 118ms/epoch - 3ms/step\n",
      "Epoch 9/100\n",
      "36/36 - 0s - loss: 0.2420 - accuracy: 0.9100 - val_loss: 0.2502 - val_accuracy: 0.9105 - 112ms/epoch - 3ms/step\n"
     ]
    },
    {
     "data": {
      "text/plain": [
       "<keras.callbacks.History at 0x174bdce48b0>"
      ]
     },
     "execution_count": 4,
     "metadata": {},
     "output_type": "execute_result"
    }
   ],
   "source": [
    "batch_size = 100\n",
    "max_epochs = 100\n",
    "\n",
    "early_stopping = tf.keras.callbacks.EarlyStopping(patience=2)\n",
    "model.fit(train_input,\n",
    "          train_target,\n",
    "          batch_size = batch_size,\n",
    "          epochs = max_epochs,\n",
    "          callbacks = [early_stopping],\n",
    "          validation_data = (validation_input, validation_target),\n",
    "          verbose = 2)\n",
    "\n",
    "# The batch size and max_epochs are hyper parameter i.e. can be changed to check the performance of the model\n",
    "# The callbacks parameter will monitor the overfitting, when val_loss increases it stops the model to be trained further. The patience=2 has been set to\n",
    "# allow the val_loss to increase for 2 times"
   ]
  },
  {
   "cell_type": "markdown",
   "id": "30aa326b-5e9a-401d-8821-4b4bce7f98e4",
   "metadata": {},
   "source": [
    "### Calculating the actual loss and accuracy"
   ]
  },
  {
   "cell_type": "code",
   "execution_count": 5,
   "id": "49f44845-768d-404d-8b62-188ccbeffa1c",
   "metadata": {},
   "outputs": [
    {
     "name": "stdout",
     "output_type": "stream",
     "text": [
      "14/14 [==============================] - 0s 2ms/step - loss: 0.2442 - accuracy: 0.9219\n"
     ]
    }
   ],
   "source": [
    "# The test loss and the test accuracy are the actual loss and the actual accuracy of the model\n",
    "# It is like implementing the model in real life scenario as the model has not seen the test data before \n",
    "test_loss, test_accuracy = model.evaluate(test_input, test_target)"
   ]
  },
  {
   "cell_type": "code",
   "execution_count": null,
   "id": "f629b1c6-ce52-4280-910d-332e9120af40",
   "metadata": {},
   "outputs": [],
   "source": []
  }
 ],
 "metadata": {
  "kernelspec": {
   "display_name": "py3_TF2.0",
   "language": "python",
   "name": "py3_tf2.0"
  },
  "language_info": {
   "codemirror_mode": {
    "name": "ipython",
    "version": 3
   },
   "file_extension": ".py",
   "mimetype": "text/x-python",
   "name": "python",
   "nbconvert_exporter": "python",
   "pygments_lexer": "ipython3",
   "version": "3.10.13"
  }
 },
 "nbformat": 4,
 "nbformat_minor": 5
}
